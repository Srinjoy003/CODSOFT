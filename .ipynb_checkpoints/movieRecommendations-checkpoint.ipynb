{
 "cells": [
  {
   "cell_type": "code",
   "execution_count": 6,
   "id": "f3c27869",
   "metadata": {},
   "outputs": [
    {
     "name": "stderr",
     "output_type": "stream",
     "text": [
      "[nltk_data] Downloading package punkt to\n",
      "[nltk_data]     C:\\Users\\srinj\\AppData\\Roaming\\nltk_data...\n",
      "[nltk_data]   Unzipping tokenizers\\punkt.zip.\n",
      "[nltk_data] Downloading package stopwords to\n",
      "[nltk_data]     C:\\Users\\srinj\\AppData\\Roaming\\nltk_data...\n",
      "[nltk_data]   Unzipping corpora\\stopwords.zip.\n"
     ]
    },
    {
     "name": "stdout",
     "output_type": "stream",
     "text": [
      "   ID                             TITLE     GENRE  \\\n",
      "0   1      Oscar et la dame rose (2009)     drama   \n",
      "1   2                      Cupid (1997)  thriller   \n",
      "2   3  Young, Wild and Wonderful (1980)     adult   \n",
      "3   4             The Secret Sin (1915)     drama   \n",
      "4   5            The Unrecovered (2007)     drama   \n",
      "\n",
      "                                         DESCRIPTION  \\\n",
      "0  Listening in to a conversation between his doc...   \n",
      "1  A brother and sister with a past incestuous re...   \n",
      "2  As the bus empties the students for their fiel...   \n",
      "3  To help their unemployed father make ends meet...   \n",
      "4  The film's title refers not only to the un-rec...   \n",
      "\n",
      "                                 CLEANED_DESCRIPTION  \n",
      "0  listening conversation doctor parents oscar le...  \n",
      "1  brother sister past incestuous relationship cu...  \n",
      "2  bus empties students field trip museum natural...  \n",
      "3  help unemployed father make ends meet edith tw...  \n",
      "4  film title refers bodies ground zero also stat...  \n",
      "   ID                        TITLE  \\\n",
      "0   1         Edgar's Lunch (1998)   \n",
      "1   2     La guerra de papá (1977)   \n",
      "2   3  Off the Beaten Track (2010)   \n",
      "3   4       Meu Amigo Hindu (2015)   \n",
      "4   5            Er nu zhai (1955)   \n",
      "\n",
      "                                         DESCRIPTION  \\\n",
      "0  L.R. Brane loves his life - his car, his apart...   \n",
      "1  Spain, March 1964: Quico is a very naughty chi...   \n",
      "2  One year in the life of Albin and his family o...   \n",
      "3  His father has died, he hasn't spoken with his...   \n",
      "4  Before he was known internationally as a marti...   \n",
      "\n",
      "                                 CLEANED_DESCRIPTION  \n",
      "0  brane loves life car apartment job especially ...  \n",
      "1  spain march quico naughty child three belongin...  \n",
      "2  one year life albin family shepherds north tra...  \n",
      "3  father died spoken brother years serious cance...  \n",
      "4  known internationally martial arts superstar b...  \n"
     ]
    }
   ],
   "source": [
    "import pandas as pd\n",
    "import nltk\n",
    "from nltk.corpus import stopwords\n",
    "from nltk.tokenize import word_tokenize\n",
    "import string\n",
    "\n",
    "nltk.download('punkt')\n",
    "nltk.download('stopwords')\n",
    "\n",
    "\n",
    "train_df = pd.read_csv('movieTrainData.txt', delimiter=' ::: ', engine='python', names=['ID', 'TITLE', 'GENRE', 'DESCRIPTION'])\n",
    "test_df = pd.read_csv('movieTestData.txt', delimiter=' ::: ', engine='python', names=['ID', 'TITLE', 'DESCRIPTION'])\n",
    "\n",
    "def preprocess_text(text):\n",
    "    # Tokenize\n",
    "    tokens = word_tokenize(text.lower())\n",
    "    # Remove stop words and non-alphabetic characters\n",
    "    stop_words = set(stopwords.words('english'))\n",
    "    tokens = [word for word in tokens if word.isalpha() and word not in stop_words]\n",
    "    # Join the tokens back into a single string\n",
    "    return ' '.join(tokens)\n",
    "\n",
    "train_df['CLEANED_DESCRIPTION'] = train_df['DESCRIPTION'].apply(preprocess_text)\n",
    "test_df['CLEANED_DESCRIPTION'] = test_df['DESCRIPTION'].apply(preprocess_text)\n",
    "\n",
    "# Display the first few rows of the processed training data\n",
    "print(train_df[['ID', 'TITLE', 'GENRE', 'DESCRIPTION', 'CLEANED_DESCRIPTION']].head())\n",
    "\n",
    "# Display the first few rows of the processed test data\n",
    "print(test_df[['ID', 'TITLE', 'DESCRIPTION', 'CLEANED_DESCRIPTION']].head())\n"
   ]
  },
  {
   "cell_type": "code",
   "execution_count": null,
   "id": "ca5c878b",
   "metadata": {},
   "outputs": [],
   "source": []
  }
 ],
 "metadata": {
  "kernelspec": {
   "display_name": "Python 3 (ipykernel)",
   "language": "python",
   "name": "python3"
  },
  "language_info": {
   "codemirror_mode": {
    "name": "ipython",
    "version": 3
   },
   "file_extension": ".py",
   "mimetype": "text/x-python",
   "name": "python",
   "nbconvert_exporter": "python",
   "pygments_lexer": "ipython3",
   "version": "3.11.4"
  }
 },
 "nbformat": 4,
 "nbformat_minor": 5
}
