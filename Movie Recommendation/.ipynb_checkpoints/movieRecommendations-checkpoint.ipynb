{
 "cells": [
  {
   "cell_type": "code",
   "execution_count": 4,
   "id": "f3c27869",
   "metadata": {},
   "outputs": [
    {
     "name": "stderr",
     "output_type": "stream",
     "text": [
      "[nltk_data] Downloading package punkt to\n",
      "[nltk_data]     C:\\Users\\srinj\\AppData\\Roaming\\nltk_data...\n",
      "[nltk_data]   Package punkt is already up-to-date!\n",
      "[nltk_data] Downloading package stopwords to\n",
      "[nltk_data]     C:\\Users\\srinj\\AppData\\Roaming\\nltk_data...\n",
      "[nltk_data]   Package stopwords is already up-to-date!\n"
     ]
    },
    {
     "name": "stdout",
     "output_type": "stream",
     "text": [
      "   ID                             TITLE     GENRE  \\\n",
      "0   1      Oscar et la dame rose (2009)     drama   \n",
      "1   2                      Cupid (1997)  thriller   \n",
      "2   3  Young, Wild and Wonderful (1980)     adult   \n",
      "3   4             The Secret Sin (1915)     drama   \n",
      "4   5            The Unrecovered (2007)     drama   \n",
      "\n",
      "                                         DESCRIPTION  \\\n",
      "0  Listening in to a conversation between his doc...   \n",
      "1  A brother and sister with a past incestuous re...   \n",
      "2  As the bus empties the students for their fiel...   \n",
      "3  To help their unemployed father make ends meet...   \n",
      "4  The film's title refers not only to the un-rec...   \n",
      "\n",
      "                                 CLEANED_DESCRIPTION  \n",
      "0  listening conversation doctor parents oscar le...  \n",
      "1  brother sister past incestuous relationship cu...  \n",
      "2  bus empties students field trip museum natural...  \n",
      "3  help unemployed father make ends meet edith tw...  \n",
      "4  film title refers bodies ground zero also stat...  \n",
      "   ID                        TITLE  \\\n",
      "0   1         Edgar's Lunch (1998)   \n",
      "1   2     La guerra de papá (1977)   \n",
      "2   3  Off the Beaten Track (2010)   \n",
      "3   4       Meu Amigo Hindu (2015)   \n",
      "4   5            Er nu zhai (1955)   \n",
      "\n",
      "                                         DESCRIPTION  \\\n",
      "0  L.R. Brane loves his life - his car, his apart...   \n",
      "1  Spain, March 1964: Quico is a very naughty chi...   \n",
      "2  One year in the life of Albin and his family o...   \n",
      "3  His father has died, he hasn't spoken with his...   \n",
      "4  Before he was known internationally as a marti...   \n",
      "\n",
      "                                 CLEANED_DESCRIPTION  \n",
      "0  brane loves life car apartment job especially ...  \n",
      "1  spain march quico naughty child three belongin...  \n",
      "2  one year life albin family shepherds north tra...  \n",
      "3  father died spoken brother years serious cance...  \n",
      "4  known internationally martial arts superstar b...  \n"
     ]
    }
   ],
   "source": [
    "import pandas as pd\n",
    "import nltk\n",
    "from nltk.corpus import stopwords\n",
    "from nltk.tokenize import word_tokenize\n",
    "import string\n",
    "\n",
    "nltk.download('punkt')\n",
    "nltk.download('stopwords')\n",
    "\n",
    "\n",
    "train_df = pd.read_csv('movieTrainData.txt', delimiter=' ::: ', engine='python', names=['ID', 'TITLE', 'GENRE', 'DESCRIPTION'])\n",
    "test_df = pd.read_csv('movieTestData.txt', delimiter=' ::: ', engine='python', names=['ID', 'TITLE', 'DESCRIPTION'])\n",
    "\n",
    "def preprocess_text(text):\n",
    "    # Tokenize\n",
    "    tokens = word_tokenize(text.lower())\n",
    "    # Remove stop words and non-alphabetic characters\n",
    "    stop_words = set(stopwords.words('english'))\n",
    "    tokens = [word for word in tokens if word.isalpha() and word not in stop_words]\n",
    "    # Join the tokens back into a single string\n",
    "    return ' '.join(tokens)\n",
    "\n",
    "# train_df['CLEANED_DESCRIPTION'] = train_df['DESCRIPTION'].apply(preprocess_text)\n",
    "# test_df['CLEANED_DESCRIPTION'] = test_df['DESCRIPTION'].apply(preprocess_text)\n",
    "\n",
    "# Display the first few rows of the processed training data\n",
    "print(train_df[['ID', 'TITLE', 'GENRE', 'DESCRIPTION', 'CLEANED_DESCRIPTION']].head())\n",
    "\n",
    "# Display the first few rows of the processed test data\n",
    "print(test_df[['ID', 'TITLE', 'DESCRIPTION', 'CLEANED_DESCRIPTION']].head())\n",
    "\n",
    "# train_df.to_csv('preprocessed_train_data.csv', index=False)\n",
    "# test_df.to_csv('preprocessed_test_data.csv', index=False)\n"
   ]
  },
  {
   "cell_type": "code",
   "execution_count": 5,
   "id": "537ba609",
   "metadata": {},
   "outputs": [
    {
     "name": "stdout",
     "output_type": "stream",
     "text": [
      "   ID                             TITLE     GENRE  \\\n",
      "0   1      Oscar et la dame rose (2009)     drama   \n",
      "1   2                      Cupid (1997)  thriller   \n",
      "2   3  Young, Wild and Wonderful (1980)     adult   \n",
      "3   4             The Secret Sin (1915)     drama   \n",
      "4   5            The Unrecovered (2007)     drama   \n",
      "\n",
      "                                         DESCRIPTION  \\\n",
      "0  Listening in to a conversation between his doc...   \n",
      "1  A brother and sister with a past incestuous re...   \n",
      "2  As the bus empties the students for their fiel...   \n",
      "3  To help their unemployed father make ends meet...   \n",
      "4  The film's title refers not only to the un-rec...   \n",
      "\n",
      "                                 CLEANED_DESCRIPTION  \n",
      "0  listening conversation doctor parents oscar le...  \n",
      "1  brother sister past incestuous relationship cu...  \n",
      "2  bus empties students field trip museum natural...  \n",
      "3  help unemployed father make ends meet edith tw...  \n",
      "4  film title refers bodies ground zero also stat...  \n",
      "   ID                        TITLE  \\\n",
      "0   1         Edgar's Lunch (1998)   \n",
      "1   2     La guerra de papá (1977)   \n",
      "2   3  Off the Beaten Track (2010)   \n",
      "3   4       Meu Amigo Hindu (2015)   \n",
      "4   5            Er nu zhai (1955)   \n",
      "\n",
      "                                         DESCRIPTION  \\\n",
      "0  L.R. Brane loves his life - his car, his apart...   \n",
      "1  Spain, March 1964: Quico is a very naughty chi...   \n",
      "2  One year in the life of Albin and his family o...   \n",
      "3  His father has died, he hasn't spoken with his...   \n",
      "4  Before he was known internationally as a marti...   \n",
      "\n",
      "                                 CLEANED_DESCRIPTION  \n",
      "0  brane loves life car apartment job especially ...  \n",
      "1  spain march quico naughty child three belongin...  \n",
      "2  one year life albin family shepherds north tra...  \n",
      "3  father died spoken brother years serious cance...  \n",
      "4  known internationally martial arts superstar b...  \n"
     ]
    }
   ],
   "source": [
    "import pandas as pd\n",
    "\n",
    "# Load the preprocessed data\n",
    "train_df = pd.read_csv('preprocessed_train_data.csv')\n",
    "test_df = pd.read_csv('preprocessed_test_data.csv')\n",
    "\n",
    "# If you used pickle\n",
    "# train_df = pd.read_pickle('preprocessed_train_data.pkl')\n",
    "# test_df = pd.read_pickle('preprocessed_test_data.pkl')\n",
    "\n",
    "# Display the first few rows to verify\n",
    "print(train_df.head())\n",
    "print(test_df.head())\n"
   ]
  },
  {
   "cell_type": "code",
   "execution_count": 6,
   "id": "ca5c878b",
   "metadata": {},
   "outputs": [
    {
     "name": "stdout",
     "output_type": "stream",
     "text": [
      "X_train shape: (54214, 5000)\n",
      "X_test shape: (54200, 5000)\n"
     ]
    }
   ],
   "source": [
    "from sklearn.feature_extraction.text import TfidfVectorizer\n",
    "\n",
    "# Initialize the TF-IDF Vectorizer\n",
    "vectorizer = TfidfVectorizer(max_features=5000)\n",
    "\n",
    "# Fit the vectorizer on the training data and transform the training data\n",
    "X_train = vectorizer.fit_transform(train_df['CLEANED_DESCRIPTION']).toarray()\n",
    "\n",
    "# Transform the test data (note: we use transform, not fit_transform)\n",
    "X_test = vectorizer.transform(test_df['CLEANED_DESCRIPTION']).toarray()\n",
    "\n",
    "# Get the target variable (genre) from the training data\n",
    "y_train = train_df['GENRE']\n",
    "\n",
    "# Display the shape of the resulting TF-IDF matrices\n",
    "print(f'X_train shape: {X_train.shape}')\n",
    "print(f'X_test shape: {X_test.shape}')\n"
   ]
  },
  {
   "cell_type": "code",
   "execution_count": 7,
   "id": "02ff71e2",
   "metadata": {},
   "outputs": [
    {
     "name": "stdout",
     "output_type": "stream",
     "text": [
      "   ID                        TITLE  \\\n",
      "0   1         Edgar's Lunch (1998)   \n",
      "1   2     La guerra de papá (1977)   \n",
      "2   3  Off the Beaten Track (2010)   \n",
      "3   4       Meu Amigo Hindu (2015)   \n",
      "4   5            Er nu zhai (1955)   \n",
      "\n",
      "                                         DESCRIPTION PREDICTED_GENRE  \n",
      "0  L.R. Brane loves his life - his car, his apart...           drama  \n",
      "1  Spain, March 1964: Quico is a very naughty chi...           drama  \n",
      "2  One year in the life of Albin and his family o...     documentary  \n",
      "3  His father has died, he hasn't spoken with his...           drama  \n",
      "4  Before he was known internationally as a marti...           drama  \n"
     ]
    }
   ],
   "source": [
    "from sklearn.naive_bayes import MultinomialNB\n",
    "from sklearn.pipeline import make_pipeline\n",
    "from sklearn.metrics import classification_report\n",
    "\n",
    "# Create a pipeline that combines the TF-IDF vectorizer and a Naive Bayes classifier\n",
    "model = make_pipeline(TfidfVectorizer(max_features=5000), MultinomialNB())\n",
    "\n",
    "# Train the model on the training data\n",
    "model.fit(train_df['CLEANED_DESCRIPTION'], train_df['GENRE'])\n",
    "\n",
    "# Make predictions on the test set\n",
    "predictions = model.predict(test_df['CLEANED_DESCRIPTION'])\n",
    "\n",
    "# Add predictions to the test DataFrame\n",
    "test_df['PREDICTED_GENRE'] = predictions\n",
    "\n",
    "# Display the test DataFrame with predictions\n",
    "print(test_df[['ID', 'TITLE', 'DESCRIPTION', 'PREDICTED_GENRE']].head())\n",
    "\n",
    "# If you have true labels for the test data, evaluate the model\n",
    "# (Uncomment and adjust the following lines if you have ground truth for the test data)\n",
    "# true_labels = test_df['GENRE']  # Replace 'GENRE' with the actual column name if it exists\n",
    "# print(classification_report(true_labels, predictions))\n"
   ]
  },
  {
   "cell_type": "code",
   "execution_count": 8,
   "id": "5ff6f935",
   "metadata": {},
   "outputs": [
    {
     "name": "stdout",
     "output_type": "stream",
     "text": [
      "0    1\n",
      "1    2\n",
      "2    3\n",
      "3    4\n",
      "4    5\n",
      "Name: ID, dtype: int64\n",
      "0    1\n",
      "1    2\n",
      "2    3\n",
      "3    4\n",
      "4    5\n",
      "Name: ID, dtype: int64\n"
     ]
    }
   ],
   "source": [
    "import pandas as pd\n",
    "\n",
    "# Load the test data solution file\n",
    "test_solution_file = 'test_data_solution.txt'  # Replace with your actual file path\n",
    "test_solution_df = pd.read_csv(test_solution_file, delimiter=' ::: ', engine='python', names=['ID', 'TITLE', 'GENRE', 'DESCRIPTION'])\n",
    "\n",
    "\n",
    "# Ensure the IDs in both DataFrames match\n",
    "print(test_solution_df['ID'].head())\n",
    "print(test_df['ID'].head())\n"
   ]
  },
  {
   "cell_type": "code",
   "execution_count": 11,
   "id": "212b4640",
   "metadata": {},
   "outputs": [
    {
     "name": "stdout",
     "output_type": "stream",
     "text": [
      "   ID                        TITLE        GENRE PREDICTED_GENRE\n",
      "0   1         Edgar's Lunch (1998)     thriller           drama\n",
      "1   2     La guerra de papá (1977)       comedy           drama\n",
      "2   3  Off the Beaten Track (2010)  documentary     documentary\n",
      "3   4       Meu Amigo Hindu (2015)        drama           drama\n",
      "4   5            Er nu zhai (1955)        drama           drama\n"
     ]
    },
    {
     "name": "stderr",
     "output_type": "stream",
     "text": [
      "C:\\Users\\srinj\\anaconda3\\Lib\\site-packages\\sklearn\\metrics\\_classification.py:1469: UndefinedMetricWarning: Precision and F-score are ill-defined and being set to 0.0 in labels with no predicted samples. Use `zero_division` parameter to control this behavior.\n",
      "  _warn_prf(average, modifier, msg_start, len(result))\n",
      "C:\\Users\\srinj\\anaconda3\\Lib\\site-packages\\sklearn\\metrics\\_classification.py:1469: UndefinedMetricWarning: Precision and F-score are ill-defined and being set to 0.0 in labels with no predicted samples. Use `zero_division` parameter to control this behavior.\n",
      "  _warn_prf(average, modifier, msg_start, len(result))\n"
     ]
    },
    {
     "name": "stdout",
     "output_type": "stream",
     "text": [
      "              precision    recall  f1-score   support\n",
      "\n",
      "      action       0.57      0.10      0.18      1314\n",
      "       adult       0.45      0.05      0.09       590\n",
      "   adventure       0.75      0.06      0.12       775\n",
      "   animation       0.00      0.00      0.00       498\n",
      "   biography       0.00      0.00      0.00       264\n",
      "      comedy       0.51      0.42      0.46      7446\n",
      "       crime       0.00      0.00      0.00       505\n",
      " documentary       0.57      0.87      0.69     13096\n",
      "       drama       0.46      0.83      0.59     13612\n",
      "      family       1.00      0.00      0.01       783\n",
      "     fantasy       0.00      0.00      0.00       322\n",
      "   game-show       0.97      0.30      0.46       193\n",
      "     history       0.00      0.00      0.00       243\n",
      "      horror       0.70      0.35      0.46      2204\n",
      "       music       0.76      0.15      0.26       731\n",
      "     musical       0.00      0.00      0.00       276\n",
      "     mystery       0.00      0.00      0.00       318\n",
      "        news       0.00      0.00      0.00       181\n",
      "  reality-tv       0.60      0.03      0.05       883\n",
      "     romance       0.00      0.00      0.00       672\n",
      "      sci-fi       0.60      0.04      0.08       646\n",
      "       short       0.58      0.12      0.19      5072\n",
      "       sport       0.92      0.08      0.15       431\n",
      "   talk-show       0.00      0.00      0.00       391\n",
      "    thriller       0.32      0.02      0.03      1590\n",
      "         war       0.00      0.00      0.00       132\n",
      "     western       0.95      0.62      0.75      1032\n",
      "\n",
      "    accuracy                           0.52     54200\n",
      "   macro avg       0.40      0.15      0.17     54200\n",
      "weighted avg       0.52      0.52      0.45     54200\n",
      "\n"
     ]
    },
    {
     "name": "stderr",
     "output_type": "stream",
     "text": [
      "C:\\Users\\srinj\\anaconda3\\Lib\\site-packages\\sklearn\\metrics\\_classification.py:1469: UndefinedMetricWarning: Precision and F-score are ill-defined and being set to 0.0 in labels with no predicted samples. Use `zero_division` parameter to control this behavior.\n",
      "  _warn_prf(average, modifier, msg_start, len(result))\n"
     ]
    }
   ],
   "source": [
    "merged_df = pd.merge(test_solution_df, test_df[['ID', 'PREDICTED_GENRE']], on='ID')\n",
    "\n",
    "# Display the merged DataFrame\n",
    "print(merged_df[['ID', 'TITLE', 'GENRE', 'PREDICTED_GENRE']].head())\n",
    "\n",
    "# Evaluate the model\n",
    "true_labels = merged_df['GENRE']\n",
    "predicted_labels = merged_df['PREDICTED_GENRE']\n",
    "print(classification_report(true_labels, predicted_labels))"
   ]
  },
  {
   "cell_type": "code",
   "execution_count": 13,
   "id": "d9ebf892",
   "metadata": {},
   "outputs": [
    {
     "data": {
      "text/plain": [
       "['movieGenreModel.pkl']"
      ]
     },
     "execution_count": 13,
     "metadata": {},
     "output_type": "execute_result"
    }
   ],
   "source": [
    "import joblib\n",
    "\n",
    "# Save the trained model to a file\n",
    "joblib.dump(model, 'movieGenreModel.pkl')"
   ]
  },
  {
   "cell_type": "code",
   "execution_count": 4,
   "id": "03c0c0fb",
   "metadata": {},
   "outputs": [
    {
     "ename": "NameError",
     "evalue": "name 'stopwords' is not defined",
     "output_type": "error",
     "traceback": [
      "\u001b[1;31m---------------------------------------------------------------------------\u001b[0m",
      "\u001b[1;31mNameError\u001b[0m                                 Traceback (most recent call last)",
      "Cell \u001b[1;32mIn[4], line 19\u001b[0m\n\u001b[0;32m     16\u001b[0m new_description \u001b[38;5;241m=\u001b[39m \u001b[38;5;124m\"\u001b[39m\u001b[38;5;124mA group of friends embarks on a weekend getaway to a remote cabin in the woods. As night falls, they begin to experience eerie occurrences and unsettling sounds. What starts as a fun retreat quickly turns into a nightmare as they realize they are not alone. An ancient evil, awakened from its slumber, hunts them one by one, and their only hope for survival is to uncover the dark secrets of the cabin before it\u001b[39m\u001b[38;5;124m'\u001b[39m\u001b[38;5;124ms too late.\u001b[39m\u001b[38;5;124m\"\u001b[39m\n\u001b[0;32m     18\u001b[0m \u001b[38;5;66;03m# Preprocess the new description\u001b[39;00m\n\u001b[1;32m---> 19\u001b[0m cleaned_description \u001b[38;5;241m=\u001b[39m preprocess_text(new_description)\n\u001b[0;32m     21\u001b[0m \u001b[38;5;66;03m# Use the model to predict the genre\u001b[39;00m\n\u001b[0;32m     22\u001b[0m predicted_genre \u001b[38;5;241m=\u001b[39m model\u001b[38;5;241m.\u001b[39mpredict([cleaned_description])\n",
      "Cell \u001b[1;32mIn[4], line 8\u001b[0m, in \u001b[0;36mpreprocess_text\u001b[1;34m(text)\u001b[0m\n\u001b[0;32m      6\u001b[0m tokens \u001b[38;5;241m=\u001b[39m word_tokenize(text\u001b[38;5;241m.\u001b[39mlower())\n\u001b[0;32m      7\u001b[0m \u001b[38;5;66;03m# Remove stop words and non-alphabetic characters\u001b[39;00m\n\u001b[1;32m----> 8\u001b[0m stop_words \u001b[38;5;241m=\u001b[39m \u001b[38;5;28mset\u001b[39m(stopwords\u001b[38;5;241m.\u001b[39mwords(\u001b[38;5;124m'\u001b[39m\u001b[38;5;124menglish\u001b[39m\u001b[38;5;124m'\u001b[39m))\n\u001b[0;32m      9\u001b[0m tokens \u001b[38;5;241m=\u001b[39m [word \u001b[38;5;28;01mfor\u001b[39;00m word \u001b[38;5;129;01min\u001b[39;00m tokens \u001b[38;5;28;01mif\u001b[39;00m word\u001b[38;5;241m.\u001b[39misalpha() \u001b[38;5;129;01mand\u001b[39;00m word \u001b[38;5;129;01mnot\u001b[39;00m \u001b[38;5;129;01min\u001b[39;00m stop_words]\n\u001b[0;32m     10\u001b[0m \u001b[38;5;66;03m# Join the tokens back into a single string\u001b[39;00m\n",
      "\u001b[1;31mNameError\u001b[0m: name 'stopwords' is not defined"
     ]
    }
   ],
   "source": [
    "import joblib\n",
    "from nltk.tokenize import word_tokenize\n",
    "\n",
    "def preprocess_text(text):\n",
    "    # Tokenize\n",
    "    tokens = word_tokenize(text.lower())\n",
    "    # Remove stop words and non-alphabetic characters\n",
    "    stop_words = set(stopwords.words('english'))\n",
    "    tokens = [word for word in tokens if word.isalpha() and word not in stop_words]\n",
    "    # Join the tokens back into a single string\n",
    "    return ' '.join(tokens)\n",
    "\n",
    "model = joblib.load('movieGenreModel.pkl')\n",
    "\n",
    "# Example new description\n",
    "new_description = \"A group of friends embarks on a weekend getaway to a remote cabin in the woods. As night falls, they begin to experience eerie occurrences and unsettling sounds. What starts as a fun retreat quickly turns into a nightmare as they realize they are not alone. An ancient evil, awakened from its slumber, hunts them one by one, and their only hope for survival is to uncover the dark secrets of the cabin before it's too late.\"\n",
    "\n",
    "# Preprocess the new description\n",
    "cleaned_description = preprocess_text(new_description)\n",
    "\n",
    "# Use the model to predict the genre\n",
    "predicted_genre = model.predict([cleaned_description])\n",
    "\n",
    "print(f\"The predicted genre for the given description is: {predicted_genre[0]}\")"
   ]
  },
  {
   "cell_type": "code",
   "execution_count": null,
   "id": "2b3e4e48",
   "metadata": {},
   "outputs": [],
   "source": []
  },
  {
   "cell_type": "code",
   "execution_count": null,
   "id": "5160adb8",
   "metadata": {},
   "outputs": [],
   "source": []
  }
 ],
 "metadata": {
  "kernelspec": {
   "display_name": "Python 3 (ipykernel)",
   "language": "python",
   "name": "python3"
  },
  "language_info": {
   "codemirror_mode": {
    "name": "ipython",
    "version": 3
   },
   "file_extension": ".py",
   "mimetype": "text/x-python",
   "name": "python",
   "nbconvert_exporter": "python",
   "pygments_lexer": "ipython3",
   "version": "3.11.4"
  }
 },
 "nbformat": 4,
 "nbformat_minor": 5
}
